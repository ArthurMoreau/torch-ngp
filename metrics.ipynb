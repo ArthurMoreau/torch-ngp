{
 "cells": [
  {
   "cell_type": "code",
   "execution_count": 120,
   "metadata": {},
   "outputs": [],
   "source": [
    "import numpy as np\n",
    "import matplotlib.pyplot as plt\n",
    "\n",
    "from skimage import data, img_as_float\n",
    "from skimage.metrics import structural_similarity as ssim\n",
    "from skimage.metrics import mean_squared_error\n",
    "from skimage.metrics import peak_signal_noise_ratio as psnr\n",
    "import cv2\n",
    "import os\n",
    "import lpips\n",
    "import torch"
   ]
  },
  {
   "cell_type": "code",
   "execution_count": 121,
   "metadata": {},
   "outputs": [],
   "source": [
    "class NerfMetrics():\n",
    "    def __init__(self):\n",
    "        super().__init__()\n",
    "\n",
    "    def computeMetrics(self, imgs_list, gt_list):\n",
    "        metrics_table = {}\n",
    "        ssim_list = []\n",
    "        mse_list = []\n",
    "        psnr_list = []\n",
    "        lpips_list = []\n",
    "        loss_fn_alex = lpips.LPIPS(net='alex')\n",
    "        #loss_fn_alex.net = loss_fn_alex.net.float()\n",
    "\n",
    "        for i in range(len(imgs_list)):\n",
    "            max = (imgs_list[i]*2-1).max()\n",
    "            min = (imgs_list[i]*2-1).min()\n",
    "            print(max)\n",
    "            print(min)\n",
    "            ssim_ = ssim(imgs_list[i], gt_list[i], data_range=max - min, channel_axis=2)\n",
    "            mse_ = mean_squared_error(imgs_list[i], gt_list[i])\n",
    "            psnr_ = psnr(imgs_list[i], gt_list[i])\n",
    "\n",
    "            ## image from -1 to 1\n",
    "            lpips_ = loss_fn_alex(torch.Tensor(imgs_list[i]*2-1).permute(2, 0, 1).unsqueeze(0), torch.Tensor(gt_list[i]*2-1).permute(2, 0, 1).unsqueeze(0)).item()\n",
    "\n",
    "            ssim_list.append(ssim_)\n",
    "            mse_list.append(mse_)\n",
    "            psnr_list.append(psnr_)\n",
    "            lpips_list.append(lpips_)\n",
    "\n",
    "        metrics_table['ssim'] = ssim_list\n",
    "        metrics_table['mse'] = mse_list\n",
    "        metrics_table['psnr'] = psnr_list\n",
    "        metrics_table['lpips'] = lpips_list\n",
    "\n",
    "        return metrics_table\n",
    "    \n",
    "    def load_imgs(self, img_path, gt_path, dsize=(473,265)):\n",
    "        imgs_list = []\n",
    "        gt_list = []\n",
    "        for filename in os.listdir(img_path):\n",
    "            img = cv2.imread(os.path.join(img_path,filename))\n",
    "            if img is not None:\n",
    "                img = cv2.resize(img, dsize)\n",
    "                img = img /255.0\n",
    "                imgs_list.append(img)\n",
    "        for filename in os.listdir(gt_path):\n",
    "            gt = cv2.imread(os.path.join(gt_path,filename))\n",
    "            if gt is not None:\n",
    "                gt = cv2.resize(gt, dsize)\n",
    "                gt = gt /255.0\n",
    "                gt_list.append(gt)\n",
    "\n",
    "        return imgs_list, gt_list\n"
   ]
  },
  {
   "cell_type": "code",
   "execution_count": 122,
   "metadata": {},
   "outputs": [],
   "source": [
    "a = NerfMetrics()"
   ]
  },
  {
   "cell_type": "code",
   "execution_count": 136,
   "metadata": {},
   "outputs": [],
   "source": [
    "path1 = '/home/fusang/Desktop/Nerf/torch-ngp-la/metrics_test/pre_2'\n",
    "path2 = '/home/fusang/Desktop/Nerf/torch-ngp-la/metrics_test/gt_2'"
   ]
  },
  {
   "cell_type": "code",
   "execution_count": 137,
   "metadata": {},
   "outputs": [],
   "source": [
    "img_list, gt_list = a.load_imgs(path1, path2, dsize=(400,400))"
   ]
  },
  {
   "cell_type": "code",
   "execution_count": 138,
   "metadata": {},
   "outputs": [],
   "source": [
    "for i in range(len(img_list)):\n",
    "#i = 4\n",
    "    img = img_list[i]\n",
    "    gt = gt_list[i]\n",
    "    cv2.imshow('image',img)  \n",
    "    cv2.imshow('gt',gt)\n",
    "    cv2.waitKey(0) # waits until a key is pressed\n",
    "    cv2.destroyAllWindows()\n",
    " "
   ]
  },
  {
   "cell_type": "code",
   "execution_count": 139,
   "metadata": {},
   "outputs": [
    {
     "name": "stdout",
     "output_type": "stream",
     "text": [
      "Setting up [LPIPS] perceptual loss: trunk [alex], v[0.1], spatial [off]\n",
      "Loading model from: /home/fusang/anaconda3/envs/ngp/lib/python3.9/site-packages/lpips/weights/v0.1/alex.pth\n",
      "1.0\n",
      "-1.0\n",
      "1.0\n",
      "-1.0\n",
      "1.0\n",
      "-1.0\n",
      "0.9921568627450981\n",
      "-0.9843137254901961\n",
      "1.0\n",
      "-0.9921568627450981\n"
     ]
    }
   ],
   "source": [
    "metrcis_table = a.computeMetrics(img_list, gt_list)"
   ]
  },
  {
   "cell_type": "code",
   "execution_count": 140,
   "metadata": {},
   "outputs": [
    {
     "name": "stdout",
     "output_type": "stream",
     "text": [
      "{'ssim': [0.6400249983293932, 0.9730945806158201, 0.8059598478914479, 0.7674501822665526, 0.9962529158198454], 'mse': [0.034119878316032304, 0.0003290354030501089, 0.004617814206074584, 0.011923370818915797, 3.599734076637191e-05], 'psnr': [14.669925263547473, 34.827573709797875, 23.35563544545692, 19.236009492011632, 44.43729580709029], 'lpips': [0.3766777217388153, 0.0649774894118309, 0.39152562618255615, 0.5613403916358948, 0.005925499368458986]}\n"
     ]
    }
   ],
   "source": [
    "print(metrcis_table)"
   ]
  },
  {
   "cell_type": "code",
   "execution_count": 141,
   "metadata": {},
   "outputs": [],
   "source": [
    "import csv\n",
    "\n",
    "def createCSV(outputpath, metrcis_table):\n",
    "    field_names = ['ssim', 'mse', 'psnr', 'lpips']\n",
    "       \n",
    "    with open(outputpath, 'w') as csvfile:\n",
    "        writer = csv.DictWriter(csvfile, fieldnames = field_names)\n",
    "        writer.writeheader()\n",
    "        writer.writerow(metrcis_table)\n"
   ]
  },
  {
   "cell_type": "code",
   "execution_count": 119,
   "metadata": {},
   "outputs": [],
   "source": [
    "createCSV(\"./test.csv\", metrcis_table)"
   ]
  },
  {
   "cell_type": "code",
   "execution_count": null,
   "metadata": {},
   "outputs": [],
   "source": []
  }
 ],
 "metadata": {
  "interpreter": {
   "hash": "5f6d18b1a2acc1c39f3a18ab7d910eafd569dd9675b80fc75b05c8446de28cd2"
  },
  "kernelspec": {
   "display_name": "Python 3.9.7 ('ngp')",
   "language": "python",
   "name": "python3"
  },
  "language_info": {
   "codemirror_mode": {
    "name": "ipython",
    "version": 3
   },
   "file_extension": ".py",
   "mimetype": "text/x-python",
   "name": "python",
   "nbconvert_exporter": "python",
   "pygments_lexer": "ipython3",
   "version": "3.9.7"
  },
  "orig_nbformat": 4
 },
 "nbformat": 4,
 "nbformat_minor": 2
}
