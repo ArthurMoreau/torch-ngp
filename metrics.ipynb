{
 "cells": [
  {
   "cell_type": "code",
   "execution_count": 1,
   "metadata": {},
   "outputs": [],
   "source": [
    "import numpy as np\n",
    "import matplotlib.pyplot as plt\n",
    "\n",
    "from skimage import data, img_as_float\n",
    "from skimage.metrics import structural_similarity as ssim\n",
    "from skimage.metrics import mean_squared_error\n",
    "from skimage.metrics import peak_signal_noise_ratio as psnr\n",
    "import cv2\n",
    "import os\n",
    "import lpips\n",
    "import torch"
   ]
  },
  {
   "cell_type": "code",
   "execution_count": 11,
   "metadata": {},
   "outputs": [],
   "source": [
    "class NerfMetrics():\n",
    "    def __init__(self):\n",
    "        super().__init__()\n",
    "\n",
    "    def computeMetrics(self, imgs_list, gt_list):\n",
    "        metrics_table = {}\n",
    "        ssim_list = []\n",
    "        mse_list = []\n",
    "        psnr_list = []\n",
    "        lpips_list = []\n",
    "        loss_fn_alex = lpips.LPIPS(net='alex')\n",
    "        #loss_fn_alex.net = loss_fn_alex.net.float()\n",
    "\n",
    "        for i in range(len(imgs_list)):\n",
    "            max = (imgs_list[i]*2-1).max()\n",
    "            min = (imgs_list[i]*2-1).min()\n",
    "            # print(max)\n",
    "            # print(min)\n",
    "            ssim_ = ssim(imgs_list[i], gt_list[i], data_range=max - min, channel_axis=2)\n",
    "            mse_ = mean_squared_error(imgs_list[i], gt_list[i])\n",
    "            psnr_ = psnr(imgs_list[i], gt_list[i])\n",
    "\n",
    "            ## image from -1 to 1\n",
    "            lpips_ = loss_fn_alex(torch.Tensor(imgs_list[i]*2-1).permute(2, 0, 1).unsqueeze(0), torch.Tensor(gt_list[i]*2-1).permute(2, 0, 1).unsqueeze(0)).item()\n",
    "\n",
    "            ssim_list.append(ssim_)\n",
    "            mse_list.append(mse_)\n",
    "            psnr_list.append(psnr_)\n",
    "            lpips_list.append(lpips_)\n",
    "            length = len(ssim_list)\n",
    "\n",
    "            # ssim_list.append(sum(ssim_list)/length)\n",
    "            # mse_list.append(sum(mse_list)/length)\n",
    "            # psnr_list.append(sum(psnr_list)/length)\n",
    "            # lpips_list.append(sum(lpips_list)/length)\n",
    "\n",
    "        metrics_table['ssim'] = ssim_list\n",
    "        metrics_table['mse'] = mse_list\n",
    "        metrics_table['psnr'] = psnr_list\n",
    "        metrics_table['lpips'] = lpips_list\n",
    "\n",
    "        return metrics_table\n",
    "    \n",
    "    def load_imgs(self, img_path, gt_path, dsize=(473,265)):\n",
    "        imgs_list = []\n",
    "        gt_list = []\n",
    "        for filename in os.listdir(img_path):\n",
    "            img = cv2.imread(os.path.join(img_path,filename))\n",
    "            gt = cv2.imread(os.path.join(gt_path,'gt_' + filename))\n",
    "            if img is not None:\n",
    "                img = cv2.resize(img, dsize)\n",
    "                img = img /255.0\n",
    "                imgs_list.append(img)\n",
    "                gt = cv2.resize(gt, dsize)\n",
    "                gt = gt /255.0\n",
    "                gt_list.append(gt)\n",
    "        # for filename in os.listdir(gt_path):\n",
    "        #     gt = cv2.imread(os.path.join(gt_path,filename))\n",
    "        #     if gt is not None:\n",
    "        #         gt = cv2.resize(gt, dsize)\n",
    "        #         gt = gt /255.0\n",
    "        #         gt_list.append(gt)\n",
    "\n",
    "        return imgs_list, gt_list\n"
   ]
  },
  {
   "cell_type": "code",
   "execution_count": 12,
   "metadata": {},
   "outputs": [],
   "source": [
    "a = NerfMetrics()"
   ]
  },
  {
   "cell_type": "code",
   "execution_count": 13,
   "metadata": {},
   "outputs": [],
   "source": [
    "path1 = '/home/fusang/Desktop/Nerf/torch-ngp-la/test_jardinMines1_scale_0.1/pre'\n",
    "path2 = '/home/fusang/Desktop/Nerf/torch-ngp-la/test_jardinMines1_scale_0.1/gt'"
   ]
  },
  {
   "cell_type": "code",
   "execution_count": 14,
   "metadata": {},
   "outputs": [],
   "source": [
    "img_list, gt_list = a.load_imgs(path1, path2)"
   ]
  },
  {
   "cell_type": "code",
   "execution_count": 15,
   "metadata": {},
   "outputs": [],
   "source": [
    "for i in range(10):\n",
    "#i = 4\n",
    "    img = img_list[i]       \n",
    "    gt = gt_list[i]\n",
    "    cv2.imshow('image',img)  \n",
    "    cv2.imshow('gt',gt)\n",
    "    cv2.waitKey(0) # waits until a key is pressed\n",
    "    cv2.destroyAllWindows()\n",
    " "
   ]
  },
  {
   "cell_type": "code",
   "execution_count": 16,
   "metadata": {},
   "outputs": [
    {
     "name": "stdout",
     "output_type": "stream",
     "text": [
      "Setting up [LPIPS] perceptual loss: trunk [alex], v[0.1], spatial [off]\n",
      "Loading model from: /home/fusang/anaconda3/envs/ngp/lib/python3.9/site-packages/lpips/weights/v0.1/alex.pth\n"
     ]
    }
   ],
   "source": [
    "metrcis_table = a.computeMetrics(img_list, gt_list)"
   ]
  },
  {
   "cell_type": "code",
   "execution_count": 22,
   "metadata": {},
   "outputs": [
    {
     "data": {
      "text/plain": [
       "0.38565666364224915"
      ]
     },
     "execution_count": 22,
     "metadata": {},
     "output_type": "execute_result"
    }
   ],
   "source": [
    "sum(metrcis_table['ssim'])/len((metrcis_table['ssim']))"
   ]
  },
  {
   "cell_type": "code",
   "execution_count": 23,
   "metadata": {},
   "outputs": [
    {
     "data": {
      "text/plain": [
       "13.221283408964693"
      ]
     },
     "execution_count": 23,
     "metadata": {},
     "output_type": "execute_result"
    }
   ],
   "source": [
    "sum(metrcis_table['psnr'])/len((metrcis_table['psnr']))"
   ]
  },
  {
   "cell_type": "code",
   "execution_count": 24,
   "metadata": {},
   "outputs": [
    {
     "data": {
      "text/plain": [
       "0.04970115035623289"
      ]
     },
     "execution_count": 24,
     "metadata": {},
     "output_type": "execute_result"
    }
   ],
   "source": [
    "sum(metrcis_table['mse'])/len((metrcis_table['mse']))"
   ]
  },
  {
   "cell_type": "code",
   "execution_count": 26,
   "metadata": {},
   "outputs": [
    {
     "data": {
      "text/plain": [
       "0.6958451188235983"
      ]
     },
     "execution_count": 26,
     "metadata": {},
     "output_type": "execute_result"
    }
   ],
   "source": [
    "sum(metrcis_table['lpips'])/len((metrcis_table['lpips']))"
   ]
  },
  {
   "cell_type": "code",
   "execution_count": 17,
   "metadata": {},
   "outputs": [],
   "source": [
    "import csv\n",
    "\n",
    "def createCSV(outputpath, metrcis_table):\n",
    "    field_names = ['ssim', 'mse', 'psnr', 'lpips']\n",
    "       \n",
    "    with open(outputpath, 'w') as csvfile:\n",
    "        writer = csv.DictWriter(csvfile, fieldnames = field_names)\n",
    "        writer.writeheader()\n",
    "        writer.writerow(metrcis_table)\n"
   ]
  },
  {
   "cell_type": "code",
   "execution_count": 18,
   "metadata": {},
   "outputs": [],
   "source": [
    "createCSV(\"./testjardin1.csv\", metrcis_table)"
   ]
  },
  {
   "cell_type": "code",
   "execution_count": null,
   "metadata": {},
   "outputs": [],
   "source": []
  }
 ],
 "metadata": {
  "interpreter": {
   "hash": "5f6d18b1a2acc1c39f3a18ab7d910eafd569dd9675b80fc75b05c8446de28cd2"
  },
  "kernelspec": {
   "display_name": "Python 3.9.7 ('ngp')",
   "language": "python",
   "name": "python3"
  },
  "language_info": {
   "codemirror_mode": {
    "name": "ipython",
    "version": 3
   },
   "file_extension": ".py",
   "mimetype": "text/x-python",
   "name": "python",
   "nbconvert_exporter": "python",
   "pygments_lexer": "ipython3",
   "version": "3.9.7"
  },
  "orig_nbformat": 4
 },
 "nbformat": 4,
 "nbformat_minor": 2
}
